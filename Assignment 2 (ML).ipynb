{
 "cells": [
  {
   "cell_type": "markdown",
   "id": "62d9c18d",
   "metadata": {},
   "source": [
    "### using  Diabetes dataset from scikit learn \n"
   ]
  },
  {
   "cell_type": "code",
   "execution_count": 347,
   "id": "05a006ed",
   "metadata": {},
   "outputs": [],
   "source": [
    "import pandas as pd\n",
    "import matplotlib.pyplot as plt\n",
    "import seaborn as sns\n",
    "from sklearn.datasets import load_diabetes\n",
    "#loding data\n",
    "diabetes_data = load_diabetes()   "
   ]
  },
  {
   "cell_type": "code",
   "execution_count": 348,
   "id": "9fd94f68",
   "metadata": {},
   "outputs": [
    {
     "data": {
      "text/plain": [
       "dict_keys(['data', 'target', 'frame', 'DESCR', 'feature_names', 'data_filename', 'target_filename'])"
      ]
     },
     "execution_count": 348,
     "metadata": {},
     "output_type": "execute_result"
    }
   ],
   "source": [
    "diabetes_data.keys() # data keys"
   ]
  },
  {
   "cell_type": "code",
   "execution_count": 349,
   "id": "9055a824",
   "metadata": {},
   "outputs": [
    {
     "data": {
      "text/plain": [
       "array([[ 0.03807591,  0.05068012,  0.06169621, ..., -0.00259226,\n",
       "         0.01990842, -0.01764613],\n",
       "       [-0.00188202, -0.04464164, -0.05147406, ..., -0.03949338,\n",
       "        -0.06832974, -0.09220405],\n",
       "       [ 0.08529891,  0.05068012,  0.04445121, ..., -0.00259226,\n",
       "         0.00286377, -0.02593034],\n",
       "       ...,\n",
       "       [ 0.04170844,  0.05068012, -0.01590626, ..., -0.01107952,\n",
       "        -0.04687948,  0.01549073],\n",
       "       [-0.04547248, -0.04464164,  0.03906215, ...,  0.02655962,\n",
       "         0.04452837, -0.02593034],\n",
       "       [-0.04547248, -0.04464164, -0.0730303 , ..., -0.03949338,\n",
       "        -0.00421986,  0.00306441]])"
      ]
     },
     "execution_count": 349,
     "metadata": {},
     "output_type": "execute_result"
    }
   ],
   "source": [
    "#data feature\n",
    "diabetes_data['data']"
   ]
  },
  {
   "cell_type": "code",
   "execution_count": 350,
   "id": "4fd37fbf",
   "metadata": {},
   "outputs": [
    {
     "data": {
      "text/plain": [
       "array([151.,  75., 141., 206., 135.,  97., 138.,  63., 110., 310., 101.,\n",
       "        69., 179., 185., 118., 171., 166., 144.,  97., 168.,  68.,  49.,\n",
       "        68., 245., 184., 202., 137.,  85., 131., 283., 129.,  59., 341.,\n",
       "        87.,  65., 102., 265., 276., 252.,  90., 100.,  55.,  61.,  92.,\n",
       "       259.,  53., 190., 142.,  75., 142., 155., 225.,  59., 104., 182.,\n",
       "       128.,  52.,  37., 170., 170.,  61., 144.,  52., 128.,  71., 163.,\n",
       "       150.,  97., 160., 178.,  48., 270., 202., 111.,  85.,  42., 170.,\n",
       "       200., 252., 113., 143.,  51.,  52., 210.,  65., 141.,  55., 134.,\n",
       "        42., 111.,  98., 164.,  48.,  96.,  90., 162., 150., 279.,  92.,\n",
       "        83., 128., 102., 302., 198.,  95.,  53., 134., 144., 232.,  81.,\n",
       "       104.,  59., 246., 297., 258., 229., 275., 281., 179., 200., 200.,\n",
       "       173., 180.,  84., 121., 161.,  99., 109., 115., 268., 274., 158.,\n",
       "       107.,  83., 103., 272.,  85., 280., 336., 281., 118., 317., 235.,\n",
       "        60., 174., 259., 178., 128.,  96., 126., 288.,  88., 292.,  71.,\n",
       "       197., 186.,  25.,  84.,  96., 195.,  53., 217., 172., 131., 214.,\n",
       "        59.,  70., 220., 268., 152.,  47.,  74., 295., 101., 151., 127.,\n",
       "       237., 225.,  81., 151., 107.,  64., 138., 185., 265., 101., 137.,\n",
       "       143., 141.,  79., 292., 178.,  91., 116.,  86., 122.,  72., 129.,\n",
       "       142.,  90., 158.,  39., 196., 222., 277.,  99., 196., 202., 155.,\n",
       "        77., 191.,  70.,  73.,  49.,  65., 263., 248., 296., 214., 185.,\n",
       "        78.,  93., 252., 150.,  77., 208.,  77., 108., 160.,  53., 220.,\n",
       "       154., 259.,  90., 246., 124.,  67.,  72., 257., 262., 275., 177.,\n",
       "        71.,  47., 187., 125.,  78.,  51., 258., 215., 303., 243.,  91.,\n",
       "       150., 310., 153., 346.,  63.,  89.,  50.,  39., 103., 308., 116.,\n",
       "       145.,  74.,  45., 115., 264.,  87., 202., 127., 182., 241.,  66.,\n",
       "        94., 283.,  64., 102., 200., 265.,  94., 230., 181., 156., 233.,\n",
       "        60., 219.,  80.,  68., 332., 248.,  84., 200.,  55.,  85.,  89.,\n",
       "        31., 129.,  83., 275.,  65., 198., 236., 253., 124.,  44., 172.,\n",
       "       114., 142., 109., 180., 144., 163., 147.,  97., 220., 190., 109.,\n",
       "       191., 122., 230., 242., 248., 249., 192., 131., 237.,  78., 135.,\n",
       "       244., 199., 270., 164.,  72.,  96., 306.,  91., 214.,  95., 216.,\n",
       "       263., 178., 113., 200., 139., 139.,  88., 148.,  88., 243.,  71.,\n",
       "        77., 109., 272.,  60.,  54., 221.,  90., 311., 281., 182., 321.,\n",
       "        58., 262., 206., 233., 242., 123., 167.,  63., 197.,  71., 168.,\n",
       "       140., 217., 121., 235., 245.,  40.,  52., 104., 132.,  88.,  69.,\n",
       "       219.,  72., 201., 110.,  51., 277.,  63., 118.,  69., 273., 258.,\n",
       "        43., 198., 242., 232., 175.,  93., 168., 275., 293., 281.,  72.,\n",
       "       140., 189., 181., 209., 136., 261., 113., 131., 174., 257.,  55.,\n",
       "        84.,  42., 146., 212., 233.,  91., 111., 152., 120.,  67., 310.,\n",
       "        94., 183.,  66., 173.,  72.,  49.,  64.,  48., 178., 104., 132.,\n",
       "       220.,  57.])"
      ]
     },
     "execution_count": 350,
     "metadata": {},
     "output_type": "execute_result"
    }
   ],
   "source": [
    "# the target \n",
    "diabetes_data['target']"
   ]
  },
  {
   "cell_type": "code",
   "execution_count": 351,
   "id": "cff15f9e",
   "metadata": {},
   "outputs": [
    {
     "data": {
      "text/plain": [
       "['age', 'sex', 'bmi', 'bp', 's1', 's2', 's3', 's4', 's5', 's6']"
      ]
     },
     "execution_count": 351,
     "metadata": {},
     "output_type": "execute_result"
    }
   ],
   "source": [
    "diabetes_data['feature_names']"
   ]
  },
  {
   "cell_type": "code",
   "execution_count": 352,
   "id": "bba3a05d",
   "metadata": {},
   "outputs": [
    {
     "data": {
      "text/plain": [
       "'.. _diabetes_dataset:\\n\\nDiabetes dataset\\n----------------\\n\\nTen baseline variables, age, sex, body mass index, average blood\\npressure, and six blood serum measurements were obtained for each of n =\\n442 diabetes patients, as well as the response of interest, a\\nquantitative measure of disease progression one year after baseline.\\n\\n**Data Set Characteristics:**\\n\\n  :Number of Instances: 442\\n\\n  :Number of Attributes: First 10 columns are numeric predictive values\\n\\n  :Target: Column 11 is a quantitative measure of disease progression one year after baseline\\n\\n  :Attribute Information:\\n      - age     age in years\\n      - sex\\n      - bmi     body mass index\\n      - bp      average blood pressure\\n      - s1      tc, T-Cells (a type of white blood cells)\\n      - s2      ldl, low-density lipoproteins\\n      - s3      hdl, high-density lipoproteins\\n      - s4      tch, thyroid stimulating hormone\\n      - s5      ltg, lamotrigine\\n      - s6      glu, blood sugar level\\n\\nNote: Each of these 10 feature variables have been mean centered and scaled by the standard deviation times `n_samples` (i.e. the sum of squares of each column totals 1).\\n\\nSource URL:\\nhttps://www4.stat.ncsu.edu/~boos/var.select/diabetes.html\\n\\nFor more information see:\\nBradley Efron, Trevor Hastie, Iain Johnstone and Robert Tibshirani (2004) \"Least Angle Regression,\" Annals of Statistics (with discussion), 407-499.\\n(https://web.stanford.edu/~hastie/Papers/LARS/LeastAngle_2002.pdf)'"
      ]
     },
     "execution_count": 352,
     "metadata": {},
     "output_type": "execute_result"
    }
   ],
   "source": [
    "diabetes_data['DESCR']"
   ]
  },
  {
   "cell_type": "code",
   "execution_count": 353,
   "id": "006adfe5",
   "metadata": {},
   "outputs": [],
   "source": [
    "# create the dataframe\n",
    "df = pd.DataFrame(diabetes_data['data'],columns=diabetes_data['feature_names'])"
   ]
  },
  {
   "cell_type": "code",
   "execution_count": 354,
   "id": "dca8aca5",
   "metadata": {},
   "outputs": [
    {
     "data": {
      "text/html": [
       "<div>\n",
       "<style scoped>\n",
       "    .dataframe tbody tr th:only-of-type {\n",
       "        vertical-align: middle;\n",
       "    }\n",
       "\n",
       "    .dataframe tbody tr th {\n",
       "        vertical-align: top;\n",
       "    }\n",
       "\n",
       "    .dataframe thead th {\n",
       "        text-align: right;\n",
       "    }\n",
       "</style>\n",
       "<table border=\"1\" class=\"dataframe\">\n",
       "  <thead>\n",
       "    <tr style=\"text-align: right;\">\n",
       "      <th></th>\n",
       "      <th>age</th>\n",
       "      <th>sex</th>\n",
       "      <th>bmi</th>\n",
       "      <th>bp</th>\n",
       "      <th>s1</th>\n",
       "      <th>s2</th>\n",
       "      <th>s3</th>\n",
       "      <th>s4</th>\n",
       "      <th>s5</th>\n",
       "      <th>s6</th>\n",
       "    </tr>\n",
       "  </thead>\n",
       "  <tbody>\n",
       "    <tr>\n",
       "      <th>0</th>\n",
       "      <td>0.038076</td>\n",
       "      <td>0.050680</td>\n",
       "      <td>0.061696</td>\n",
       "      <td>0.021872</td>\n",
       "      <td>-0.044223</td>\n",
       "      <td>-0.034821</td>\n",
       "      <td>-0.043401</td>\n",
       "      <td>-0.002592</td>\n",
       "      <td>0.019908</td>\n",
       "      <td>-0.017646</td>\n",
       "    </tr>\n",
       "    <tr>\n",
       "      <th>1</th>\n",
       "      <td>-0.001882</td>\n",
       "      <td>-0.044642</td>\n",
       "      <td>-0.051474</td>\n",
       "      <td>-0.026328</td>\n",
       "      <td>-0.008449</td>\n",
       "      <td>-0.019163</td>\n",
       "      <td>0.074412</td>\n",
       "      <td>-0.039493</td>\n",
       "      <td>-0.068330</td>\n",
       "      <td>-0.092204</td>\n",
       "    </tr>\n",
       "    <tr>\n",
       "      <th>2</th>\n",
       "      <td>0.085299</td>\n",
       "      <td>0.050680</td>\n",
       "      <td>0.044451</td>\n",
       "      <td>-0.005671</td>\n",
       "      <td>-0.045599</td>\n",
       "      <td>-0.034194</td>\n",
       "      <td>-0.032356</td>\n",
       "      <td>-0.002592</td>\n",
       "      <td>0.002864</td>\n",
       "      <td>-0.025930</td>\n",
       "    </tr>\n",
       "    <tr>\n",
       "      <th>3</th>\n",
       "      <td>-0.089063</td>\n",
       "      <td>-0.044642</td>\n",
       "      <td>-0.011595</td>\n",
       "      <td>-0.036656</td>\n",
       "      <td>0.012191</td>\n",
       "      <td>0.024991</td>\n",
       "      <td>-0.036038</td>\n",
       "      <td>0.034309</td>\n",
       "      <td>0.022692</td>\n",
       "      <td>-0.009362</td>\n",
       "    </tr>\n",
       "    <tr>\n",
       "      <th>4</th>\n",
       "      <td>0.005383</td>\n",
       "      <td>-0.044642</td>\n",
       "      <td>-0.036385</td>\n",
       "      <td>0.021872</td>\n",
       "      <td>0.003935</td>\n",
       "      <td>0.015596</td>\n",
       "      <td>0.008142</td>\n",
       "      <td>-0.002592</td>\n",
       "      <td>-0.031991</td>\n",
       "      <td>-0.046641</td>\n",
       "    </tr>\n",
       "    <tr>\n",
       "      <th>...</th>\n",
       "      <td>...</td>\n",
       "      <td>...</td>\n",
       "      <td>...</td>\n",
       "      <td>...</td>\n",
       "      <td>...</td>\n",
       "      <td>...</td>\n",
       "      <td>...</td>\n",
       "      <td>...</td>\n",
       "      <td>...</td>\n",
       "      <td>...</td>\n",
       "    </tr>\n",
       "    <tr>\n",
       "      <th>437</th>\n",
       "      <td>0.041708</td>\n",
       "      <td>0.050680</td>\n",
       "      <td>0.019662</td>\n",
       "      <td>0.059744</td>\n",
       "      <td>-0.005697</td>\n",
       "      <td>-0.002566</td>\n",
       "      <td>-0.028674</td>\n",
       "      <td>-0.002592</td>\n",
       "      <td>0.031193</td>\n",
       "      <td>0.007207</td>\n",
       "    </tr>\n",
       "    <tr>\n",
       "      <th>438</th>\n",
       "      <td>-0.005515</td>\n",
       "      <td>0.050680</td>\n",
       "      <td>-0.015906</td>\n",
       "      <td>-0.067642</td>\n",
       "      <td>0.049341</td>\n",
       "      <td>0.079165</td>\n",
       "      <td>-0.028674</td>\n",
       "      <td>0.034309</td>\n",
       "      <td>-0.018118</td>\n",
       "      <td>0.044485</td>\n",
       "    </tr>\n",
       "    <tr>\n",
       "      <th>439</th>\n",
       "      <td>0.041708</td>\n",
       "      <td>0.050680</td>\n",
       "      <td>-0.015906</td>\n",
       "      <td>0.017282</td>\n",
       "      <td>-0.037344</td>\n",
       "      <td>-0.013840</td>\n",
       "      <td>-0.024993</td>\n",
       "      <td>-0.011080</td>\n",
       "      <td>-0.046879</td>\n",
       "      <td>0.015491</td>\n",
       "    </tr>\n",
       "    <tr>\n",
       "      <th>440</th>\n",
       "      <td>-0.045472</td>\n",
       "      <td>-0.044642</td>\n",
       "      <td>0.039062</td>\n",
       "      <td>0.001215</td>\n",
       "      <td>0.016318</td>\n",
       "      <td>0.015283</td>\n",
       "      <td>-0.028674</td>\n",
       "      <td>0.026560</td>\n",
       "      <td>0.044528</td>\n",
       "      <td>-0.025930</td>\n",
       "    </tr>\n",
       "    <tr>\n",
       "      <th>441</th>\n",
       "      <td>-0.045472</td>\n",
       "      <td>-0.044642</td>\n",
       "      <td>-0.073030</td>\n",
       "      <td>-0.081414</td>\n",
       "      <td>0.083740</td>\n",
       "      <td>0.027809</td>\n",
       "      <td>0.173816</td>\n",
       "      <td>-0.039493</td>\n",
       "      <td>-0.004220</td>\n",
       "      <td>0.003064</td>\n",
       "    </tr>\n",
       "  </tbody>\n",
       "</table>\n",
       "<p>442 rows × 10 columns</p>\n",
       "</div>"
      ],
      "text/plain": [
       "          age       sex       bmi        bp        s1        s2        s3  \\\n",
       "0    0.038076  0.050680  0.061696  0.021872 -0.044223 -0.034821 -0.043401   \n",
       "1   -0.001882 -0.044642 -0.051474 -0.026328 -0.008449 -0.019163  0.074412   \n",
       "2    0.085299  0.050680  0.044451 -0.005671 -0.045599 -0.034194 -0.032356   \n",
       "3   -0.089063 -0.044642 -0.011595 -0.036656  0.012191  0.024991 -0.036038   \n",
       "4    0.005383 -0.044642 -0.036385  0.021872  0.003935  0.015596  0.008142   \n",
       "..        ...       ...       ...       ...       ...       ...       ...   \n",
       "437  0.041708  0.050680  0.019662  0.059744 -0.005697 -0.002566 -0.028674   \n",
       "438 -0.005515  0.050680 -0.015906 -0.067642  0.049341  0.079165 -0.028674   \n",
       "439  0.041708  0.050680 -0.015906  0.017282 -0.037344 -0.013840 -0.024993   \n",
       "440 -0.045472 -0.044642  0.039062  0.001215  0.016318  0.015283 -0.028674   \n",
       "441 -0.045472 -0.044642 -0.073030 -0.081414  0.083740  0.027809  0.173816   \n",
       "\n",
       "           s4        s5        s6  \n",
       "0   -0.002592  0.019908 -0.017646  \n",
       "1   -0.039493 -0.068330 -0.092204  \n",
       "2   -0.002592  0.002864 -0.025930  \n",
       "3    0.034309  0.022692 -0.009362  \n",
       "4   -0.002592 -0.031991 -0.046641  \n",
       "..        ...       ...       ...  \n",
       "437 -0.002592  0.031193  0.007207  \n",
       "438  0.034309 -0.018118  0.044485  \n",
       "439 -0.011080 -0.046879  0.015491  \n",
       "440  0.026560  0.044528 -0.025930  \n",
       "441 -0.039493 -0.004220  0.003064  \n",
       "\n",
       "[442 rows x 10 columns]"
      ]
     },
     "execution_count": 354,
     "metadata": {},
     "output_type": "execute_result"
    }
   ],
   "source": [
    "df"
   ]
  },
  {
   "cell_type": "markdown",
   "id": "dde3476d",
   "metadata": {},
   "source": [
    "## What are the dimensions of this data?"
   ]
  },
  {
   "cell_type": "code",
   "execution_count": 355,
   "id": "d4fd3a0e",
   "metadata": {},
   "outputs": [
    {
     "name": "stdout",
     "output_type": "stream",
     "text": [
      "<class 'pandas.core.frame.DataFrame'>\n",
      "RangeIndex: 442 entries, 0 to 441\n",
      "Data columns (total 10 columns):\n",
      " #   Column  Non-Null Count  Dtype  \n",
      "---  ------  --------------  -----  \n",
      " 0   age     442 non-null    float64\n",
      " 1   sex     442 non-null    float64\n",
      " 2   bmi     442 non-null    float64\n",
      " 3   bp      442 non-null    float64\n",
      " 4   s1      442 non-null    float64\n",
      " 5   s2      442 non-null    float64\n",
      " 6   s3      442 non-null    float64\n",
      " 7   s4      442 non-null    float64\n",
      " 8   s5      442 non-null    float64\n",
      " 9   s6      442 non-null    float64\n",
      "dtypes: float64(10)\n",
      "memory usage: 34.7 KB\n"
     ]
    }
   ],
   "source": [
    "# the information of data\n",
    "df.info()"
   ]
  },
  {
   "cell_type": "code",
   "execution_count": 356,
   "id": "76bd8c61",
   "metadata": {},
   "outputs": [
    {
     "data": {
      "text/plain": [
       "(442, 10)"
      ]
     },
     "execution_count": 356,
     "metadata": {},
     "output_type": "execute_result"
    }
   ],
   "source": [
    "# get the dimensitons\n",
    "df.shape"
   ]
  },
  {
   "cell_type": "markdown",
   "id": "a724efa6",
   "metadata": {},
   "source": [
    "## How many features?"
   ]
  },
  {
   "cell_type": "code",
   "execution_count": 357,
   "id": "7072a642",
   "metadata": {},
   "outputs": [],
   "source": [
    "# 10 features"
   ]
  },
  {
   "cell_type": "markdown",
   "id": "25d52e4b",
   "metadata": {},
   "source": [
    "## What is the output data type? Qualitative or quantitative?"
   ]
  },
  {
   "cell_type": "code",
   "execution_count": 358,
   "id": "f0573ced",
   "metadata": {},
   "outputs": [
    {
     "data": {
      "text/plain": [
       "array([ 0.03807591, -0.00188202,  0.08529891, -0.08906294,  0.00538306,\n",
       "       -0.09269548, -0.04547248,  0.06350368,  0.04170844, -0.07090025,\n",
       "       -0.09632802,  0.02717829,  0.01628068,  0.04534098, -0.05273755,\n",
       "       -0.00551455,  0.07076875, -0.0382074 , -0.02730979, -0.04910502,\n",
       "       -0.0854304 , -0.06363517, -0.06726771, -0.10722563, -0.02367725,\n",
       "        0.05260606,  0.06713621, -0.06000263,  0.03444337,  0.03081083,\n",
       "        0.04897352,  0.01264814, -0.00914709, -0.09996055,  0.01991321,\n",
       "       -0.05637009, -0.07816532, -0.04183994,  0.05987114, -0.03457486,\n",
       "       -0.03094232, -0.10359309, -0.01641217,  0.00175052, -0.02004471,\n",
       "        0.0562386 ,  0.02354575,  0.0090156 , -0.07453279, -0.01277963,\n",
       "       -0.08179786,  0.08166637,  0.11072668,  0.09256398,  0.07440129,\n",
       "        0.07803383,  0.09619652,  0.08893144])"
      ]
     },
     "execution_count": 358,
     "metadata": {},
     "output_type": "execute_result"
    }
   ],
   "source": [
    "df['age'].unique()"
   ]
  },
  {
   "cell_type": "markdown",
   "id": "aeda412b",
   "metadata": {},
   "source": [
    "## Does it have nulls?"
   ]
  },
  {
   "cell_type": "code",
   "execution_count": 359,
   "id": "15289e9f",
   "metadata": {},
   "outputs": [
    {
     "data": {
      "text/plain": [
       "age    0\n",
       "sex    0\n",
       "bmi    0\n",
       "bp     0\n",
       "s1     0\n",
       "s2     0\n",
       "s3     0\n",
       "s4     0\n",
       "s5     0\n",
       "s6     0\n",
       "dtype: int64"
      ]
     },
     "execution_count": 359,
     "metadata": {},
     "output_type": "execute_result"
    }
   ],
   "source": [
    "df.isnull().sum()\n",
    "# chek if ther nulls"
   ]
  },
  {
   "cell_type": "markdown",
   "id": "c1a5e977",
   "metadata": {},
   "source": [
    "## Does it have duplicate values?"
   ]
  },
  {
   "cell_type": "code",
   "execution_count": 360,
   "id": "4b98f41f",
   "metadata": {},
   "outputs": [
    {
     "data": {
      "text/plain": [
       "0"
      ]
     },
     "execution_count": 360,
     "metadata": {},
     "output_type": "execute_result"
    }
   ],
   "source": [
    "# chek if ther duplicate\n",
    "df.duplicated().sum()"
   ]
  },
  {
   "cell_type": "markdown",
   "id": "9beb1c08",
   "metadata": {},
   "source": [
    "## Does it have outliers?"
   ]
  },
  {
   "cell_type": "code",
   "execution_count": 361,
   "id": "5b93eeb8",
   "metadata": {},
   "outputs": [
    {
     "data": {
      "image/png": "[encoded data removed]",
      "text/plain": [
       "<Figure size 432x288 with 1 Axes>"
      ]
     },
     "metadata": {
      "needs_background": "light"
     },
     "output_type": "display_data"
    }
   ],
   "source": [
    "plt.boxplot(df['age'].dropna());    #finding outliers by using matplotlib , seaborn"
   ]
  },
  {
   "cell_type": "code",
   "execution_count": null,
   "id": "fcfa5451",
   "metadata": {},
   "outputs": [],
   "source": [
    "# no outliers in (age)"
   ]
  },
  {
   "cell_type": "code",
   "execution_count": 363,
   "id": "020f5426",
   "metadata": {},
   "outputs": [
    {
     "data": {
      "image/png": "[encoded data removed]",
      "text/plain": [
       "<Figure size 432x288 with 1 Axes>"
      ]
     },
     "metadata": {
      "needs_background": "light"
     },
     "output_type": "display_data"
    }
   ],
   "source": [
    "plt.boxplot(df['s6'].dropna());      #finding outliers by using matplotlib , seaborn"
   ]
  },
  {
   "cell_type": "code",
   "execution_count": null,
   "id": "45b2db5d",
   "metadata": {},
   "outputs": [],
   "source": [
    "# yas , there outliers"
   ]
  },
  {
   "cell_type": "code",
   "execution_count": 364,
   "id": "6e99ed3a",
   "metadata": {},
   "outputs": [
    {
     "data": {
      "image/png": "[encoded data removed]",
      "text/plain": [
       "<Figure size 432x288 with 1 Axes>"
      ]
     },
     "metadata": {
      "needs_background": "light"
     },
     "output_type": "display_data"
    }
   ],
   "source": [
    "plt.boxplot(df['s1'].dropna());     #finding outliers by using matplotlib , seaborn"
   ]
  },
  {
   "cell_type": "code",
   "execution_count": null,
   "id": "a5ad4640",
   "metadata": {},
   "outputs": [],
   "source": [
    "# yas , there outliers"
   ]
  },
  {
   "cell_type": "markdown",
   "id": "1e26d813",
   "metadata": {},
   "source": [
    "## How many classes in the dataset"
   ]
  },
  {
   "cell_type": "code",
   "execution_count": null,
   "id": "67c5f0ab",
   "metadata": {},
   "outputs": [],
   "source": [
    "# no classes , we'r not classefy data "
   ]
  },
  {
   "cell_type": "markdown",
   "id": "7467b05f",
   "metadata": {},
   "source": [
    "## Correlation between features"
   ]
  },
  {
   "cell_type": "code",
   "execution_count": null,
   "id": "6d6281b4",
   "metadata": {},
   "outputs": [],
   "source": [
    "df['target'] = diabetes_data['target']"
   ]
  },
  {
   "cell_type": "code",
   "execution_count": null,
   "id": "abf86bf9",
   "metadata": {},
   "outputs": [],
   "source": [
    "df"
   ]
  },
  {
   "cell_type": "code",
   "execution_count": null,
   "id": "f832dd3c",
   "metadata": {},
   "outputs": [],
   "source": [
    "# get the Correlation\n",
    "df.corr()"
   ]
  },
  {
   "cell_type": "markdown",
   "id": "4a895fde",
   "metadata": {},
   "source": [
    "## Are the classes balanced? Does each class have the same number of records/rows?"
   ]
  },
  {
   "cell_type": "code",
   "execution_count": null,
   "id": "f5a0c0e9",
   "metadata": {},
   "outputs": [],
   "source": [
    "# no classes , we'r not classefy data  "
   ]
  },
  {
   "cell_type": "markdown",
   "id": "bb9a8872",
   "metadata": {},
   "source": [
    "## choose one feature and any target (make sense)"
   ]
  },
  {
   "cell_type": "code",
   "execution_count": null,
   "id": "f62a5548",
   "metadata": {},
   "outputs": [],
   "source": [
    "A = df[[\"s1\"]]"
   ]
  },
  {
   "cell_type": "code",
   "execution_count": null,
   "id": "53bef322",
   "metadata": {},
   "outputs": [],
   "source": [
    "A"
   ]
  },
  {
   "cell_type": "code",
   "execution_count": null,
   "id": "bba0101e",
   "metadata": {},
   "outputs": [],
   "source": [
    "#DataFrame\n",
    "B = df[\"target\"]"
   ]
  },
  {
   "cell_type": "markdown",
   "id": "4a53fdc6",
   "metadata": {},
   "source": [
    "## Linear regression"
   ]
  },
  {
   "cell_type": "code",
   "execution_count": null,
   "id": "0f2dd535",
   "metadata": {
    "scrolled": true
   },
   "outputs": [],
   "source": [
    "from sklearn.linear_model import LinearRegression"
   ]
  },
  {
   "cell_type": "code",
   "execution_count": null,
   "id": "6d20d3d5",
   "metadata": {},
   "outputs": [],
   "source": [
    "model = LinearRegression()     #take an object from the class"
   ]
  },
  {
   "cell_type": "code",
   "execution_count": null,
   "id": "890560d4",
   "metadata": {},
   "outputs": [],
   "source": [
    "model.fit(A,B)    # fiting data"
   ]
  },
  {
   "cell_type": "markdown",
   "id": "6922d029",
   "metadata": {},
   "source": [
    "## Linear regression score"
   ]
  },
  {
   "cell_type": "code",
   "execution_count": null,
   "id": "cd3352e7",
   "metadata": {},
   "outputs": [],
   "source": [
    "model.score(A,B)    # get the score"
   ]
  },
  {
   "cell_type": "markdown",
   "id": "96db7aaf",
   "metadata": {},
   "source": [
    "## polynomial regression"
   ]
  },
  {
   "cell_type": "code",
   "execution_count": null,
   "id": "287972c4",
   "metadata": {},
   "outputs": [],
   "source": [
    "from sklearn.preprocessing import PolynomialFeatures"
   ]
  },
  {
   "cell_type": "code",
   "execution_count": null,
   "id": "08c91895",
   "metadata": {},
   "outputs": [],
   "source": [
    "polymodel = PolynomialFeatures( degree=2 )"
   ]
  },
  {
   "cell_type": "code",
   "execution_count": null,
   "id": "b6252882",
   "metadata": {},
   "outputs": [],
   "source": [
    "xpoly = polymodel.fit_transform(A)"
   ]
  },
  {
   "cell_type": "code",
   "execution_count": null,
   "id": "afa708f8",
   "metadata": {},
   "outputs": [],
   "source": [
    "xpoly[0]"
   ]
  },
  {
   "cell_type": "code",
   "execution_count": null,
   "id": "2a7c2865",
   "metadata": {},
   "outputs": [],
   "source": [
    "modelpoly = LinearRegression()    #take an object from the class"
   ]
  },
  {
   "cell_type": "code",
   "execution_count": null,
   "id": "8ee2b858",
   "metadata": {},
   "outputs": [],
   "source": [
    "modelpoly.fit(xpoly , B)     # fiting data"
   ]
  },
  {
   "cell_type": "markdown",
   "id": "6a713574",
   "metadata": {},
   "source": [
    "## polynomial regression score"
   ]
  },
  {
   "cell_type": "code",
   "execution_count": null,
   "id": "b9804b67",
   "metadata": {},
   "outputs": [],
   "source": [
    "modelpoly.score(xpoly , B)     # get the score"
   ]
  },
  {
   "cell_type": "markdown",
   "id": "7551f032",
   "metadata": {},
   "source": [
    "## choose more than one feature and any target (make sense)\n"
   ]
  },
  {
   "cell_type": "code",
   "execution_count": null,
   "id": "07cbcf77",
   "metadata": {},
   "outputs": [],
   "source": [
    "Z = df.iloc[:, :-1]"
   ]
  },
  {
   "cell_type": "code",
   "execution_count": null,
   "id": "19217e4c",
   "metadata": {},
   "outputs": [],
   "source": [
    "Z"
   ]
  },
  {
   "cell_type": "code",
   "execution_count": null,
   "id": "4f4de772",
   "metadata": {},
   "outputs": [],
   "source": [
    "X = df[\"target\"]"
   ]
  },
  {
   "cell_type": "markdown",
   "id": "997784e6",
   "metadata": {},
   "source": [
    "## Linear regression"
   ]
  },
  {
   "cell_type": "code",
   "execution_count": null,
   "id": "261ca5ca",
   "metadata": {},
   "outputs": [],
   "source": [
    "model = LinearRegression()    #take an object from the class"
   ]
  },
  {
   "cell_type": "code",
   "execution_count": null,
   "id": "c4df2b0a",
   "metadata": {},
   "outputs": [],
   "source": [
    "model.fit(Z, X)    # fiting data"
   ]
  },
  {
   "cell_type": "markdown",
   "id": "dbf57a2f",
   "metadata": {},
   "source": [
    " ## Linear regression score"
   ]
  },
  {
   "cell_type": "code",
   "execution_count": null,
   "id": "42f10230",
   "metadata": {},
   "outputs": [],
   "source": [
    "model.score(Z , X)   # get the score"
   ]
  },
  {
   "cell_type": "markdown",
   "id": "b288e2d8",
   "metadata": {},
   "source": [
    "## polynomial regression"
   ]
  },
  {
   "cell_type": "code",
   "execution_count": null,
   "id": "39b22969",
   "metadata": {},
   "outputs": [],
   "source": [
    "from sklearn.preprocessing import PolynomialFeatures"
   ]
  },
  {
   "cell_type": "code",
   "execution_count": null,
   "id": "0ac5e5e5",
   "metadata": {},
   "outputs": [],
   "source": [
    "polymodel = PolynomialFeatures(degree=2)"
   ]
  },
  {
   "cell_type": "code",
   "execution_count": null,
   "id": "6e3db413",
   "metadata": {},
   "outputs": [],
   "source": [
    "xpoly = polymodel.fit_transform(Z)"
   ]
  },
  {
   "cell_type": "code",
   "execution_count": null,
   "id": "c92d211e",
   "metadata": {},
   "outputs": [],
   "source": [
    "xpoly[0]"
   ]
  },
  {
   "cell_type": "code",
   "execution_count": null,
   "id": "c7a2a47e",
   "metadata": {},
   "outputs": [],
   "source": [
    "modelploy = LinearRegression()   #take an object from the class"
   ]
  },
  {
   "cell_type": "code",
   "execution_count": null,
   "id": "26752c48",
   "metadata": {},
   "outputs": [],
   "source": [
    "modelploy.fit(xpoly, X)    # fiting data"
   ]
  },
  {
   "cell_type": "markdown",
   "id": "a4661212",
   "metadata": {},
   "source": [
    "## polynomial regression score"
   ]
  },
  {
   "cell_type": "code",
   "execution_count": null,
   "id": "7284e52c",
   "metadata": {},
   "outputs": [],
   "source": [
    "# get the score\n",
    "modelploy.score(xpoly, X)"
   ]
  }
 ],
 "metadata": {
  "kernelspec": {
   "display_name": "Python 3",
   "language": "python",
   "name": "python3"
  },
  "language_info": {
   "codemirror_mode": {
    "name": "ipython",
    "version": 3
   },
   "file_extension": ".py",
   "mimetype": "text/x-python",
   "name": "python",
   "nbconvert_exporter": "python",
   "pygments_lexer": "ipython3",
   "version": "3.8.8"
  }
 },
 "nbformat": 4,
 "nbformat_minor": 5
}
