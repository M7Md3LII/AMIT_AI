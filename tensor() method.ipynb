{
 "cells": [
  {
   "cell_type": "markdown",
   "id": "05eae3f8",
   "metadata": {},
   "source": [
    "### third argument of the \n",
    "### tensordot() method"
   ]
  },
  {
   "cell_type": "code",
   "execution_count": null,
   "id": "54bd14f7",
   "metadata": {},
   "outputs": [],
   "source": [
    "This can be a scalar as well as an array-like object. This indicates the axes on which we have to find tensordot"
   ]
  },
  {
   "cell_type": "markdown",
   "id": "83e14386",
   "metadata": {},
   "source": [
    "### difference between tensor products and tensor dot product with example"
   ]
  },
  {
   "cell_type": "markdown",
   "id": "3353b43b",
   "metadata": {},
   "source": [
    "## tensor products"
   ]
  },
  {
   "cell_type": "code",
   "execution_count": null,
   "id": "fb1f23e0",
   "metadata": {},
   "outputs": [],
   "source": [
    "Tensor products provide a most “natural” method of combining two modules.\n",
    "They may be thought of as the simplest way to combine modules in a meaningful\n",
    "fashion"
   ]
  },
  {
   "cell_type": "markdown",
   "id": "a6269909",
   "metadata": {},
   "source": [
    "## tensor products example"
   ]
  },
  {
   "cell_type": "code",
   "execution_count": 3,
   "id": "12c0d217",
   "metadata": {},
   "outputs": [],
   "source": [
    "from sympy import Matrix\n",
    "from sympy.physics.quantum import TensorProduct\n",
    "m1 = Matrix([[1,2],[3,4]])\n",
    "m2 = Matrix([[1,0],[0,1]])"
   ]
  },
  {
   "cell_type": "code",
   "execution_count": 4,
   "id": "26ba8c60",
   "metadata": {},
   "outputs": [
    {
     "data": {
      "text/latex": [
       "$\\displaystyle \\left[\\begin{matrix}1 & 0 & 2 & 0\\\\0 & 1 & 0 & 2\\\\3 & 0 & 4 & 0\\\\0 & 3 & 0 & 4\\end{matrix}\\right]$"
      ],
      "text/plain": [
       "Matrix([\n",
       "[1, 0, 2, 0],\n",
       "[0, 1, 0, 2],\n",
       "[3, 0, 4, 0],\n",
       "[0, 3, 0, 4]])"
      ]
     },
     "execution_count": 4,
     "metadata": {},
     "output_type": "execute_result"
    }
   ],
   "source": [
    "TensorProduct(m1, m2)"
   ]
  },
  {
   "cell_type": "code",
   "execution_count": 5,
   "id": "d18a7738",
   "metadata": {},
   "outputs": [
    {
     "data": {
      "text/latex": [
       "$\\displaystyle \\left[\\begin{matrix}1 & 2 & 0 & 0\\\\3 & 4 & 0 & 0\\\\0 & 0 & 1 & 2\\\\0 & 0 & 3 & 4\\end{matrix}\\right]$"
      ],
      "text/plain": [
       "Matrix([\n",
       "[1, 2, 0, 0],\n",
       "[3, 4, 0, 0],\n",
       "[0, 0, 1, 2],\n",
       "[0, 0, 3, 4]])"
      ]
     },
     "execution_count": 5,
     "metadata": {},
     "output_type": "execute_result"
    }
   ],
   "source": [
    "TensorProduct(m2, m1)"
   ]
  },
  {
   "cell_type": "code",
   "execution_count": null,
   "id": "060bde0b",
   "metadata": {},
   "outputs": [],
   "source": []
  },
  {
   "cell_type": "markdown",
   "id": "6bd63ad3",
   "metadata": {},
   "source": [
    "## tensor dot product"
   ]
  },
  {
   "cell_type": "code",
   "execution_count": null,
   "id": "84aeb8e1",
   "metadata": {},
   "outputs": [],
   "source": [
    "tensordot() is used to calculate the tensor dot product of two given tensors. \n",
    "ensordot() function sum the product of a’s elements and b’s elements over the axes specified by a_axes and b_axes. "
   ]
  },
  {
   "cell_type": "markdown",
   "id": "7a26e815",
   "metadata": {},
   "source": [
    "## tensor dot product example"
   ]
  },
  {
   "cell_type": "code",
   "execution_count": 2,
   "id": "ef3741a4",
   "metadata": {},
   "outputs": [
    {
     "name": "stdout",
     "output_type": "stream",
     "text": [
      "Tensor1 is:  [[0 1]\n",
      " [2 3]\n",
      " [4 5]\n",
      " [6 7]]\n",
      "\n",
      "Tensor2 is:  [[ 4  5  6  7]\n",
      " [ 8  9 10 11]]\n",
      "Tensordot of these tensors is:\n",
      " [[  8   9  10  11]\n",
      " [ 32  37  42  47]\n",
      " [ 56  65  74  83]\n",
      " [ 80  93 106 119]]\n"
     ]
    }
   ],
   "source": [
    "# Programming example of tensordot when axes is an scalar\n",
    "import numpy as np\n",
    "# Declaring arrays\n",
    "arr1 = np.arange(8).reshape(4, 2)\n",
    "arr2 = np.arange(4, 12).reshape(2, 4)\n",
    "print(\"Tensor1 is: \", arr1)\n",
    "print(\"\\nTensor2 is: \", arr2)\n",
    "\n",
    "# Now we will calculate tensor dot\n",
    "ans = np.tensordot(arr1, arr2, axes=1)\n",
    "print(\"Tensordot of these tensors is:\\n\", ans)"
   ]
  },
  {
   "cell_type": "code",
   "execution_count": null,
   "id": "c280d504",
   "metadata": {},
   "outputs": [],
   "source": []
  },
  {
   "cell_type": "code",
   "execution_count": null,
   "id": "543b20c9",
   "metadata": {},
   "outputs": [],
   "source": []
  }
 ],
 "metadata": {
  "kernelspec": {
   "display_name": "Python 3",
   "language": "python",
   "name": "python3"
  },
  "language_info": {
   "codemirror_mode": {
    "name": "ipython",
    "version": 3
   },
   "file_extension": ".py",
   "mimetype": "text/x-python",
   "name": "python",
   "nbconvert_exporter": "python",
   "pygments_lexer": "ipython3",
   "version": "3.8.8"
  }
 },
 "nbformat": 4,
 "nbformat_minor": 5
}
