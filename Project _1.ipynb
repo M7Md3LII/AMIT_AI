{
 "cells": [
  {
   "cell_type": "markdown",
   "id": "running-example",
   "metadata": {},
   "source": [
    "# Project 2\n",
    "\n",
    "## By using what we've learned about oop create a banking system program \n",
    "\n",
    "\n",
    "### Parent class : holds user account info and show the user details \n",
    "\n",
    "\n",
    "### Child class : about bank and holds the balance and can  can make deposits , withdraw and show the final balance  functions  .....\n"
   ]
  },
  {
   "cell_type": "code",
   "execution_count": 2,
   "id": "correct-breach",
   "metadata": {},
   "outputs": [],
   "source": [
    "class account:\n",
    "    \"\"\"\n",
    "    holds user account info and show the user details\n",
    "    input:\n",
    "    name: name of the account owner\n",
    "    exofcard: expire date of the card\n",
    "    gender: the gender of the the account owner\n",
    "    age: the age of the account owner\n",
    "    \"\"\"\n",
    "    def __init__(self,name,exofcard,gender,age):\n",
    "        self.name = name\n",
    "        self.exofcard = exofcard\n",
    "        self.gender = gender\n",
    "        self.age = age\n",
    "          \n",
    "    def show_details(self):\n",
    "        print(\"hello there\")\n",
    "        print(\"your name is\",self.name) # Shows User Name\n",
    "        print(\"expire of the card is\",self.exofcard) # Shows the expiration date\n",
    "        print(\"your gender are\",self.gender) # Shows the gender of the user\n",
    "        print(\"your age\",self.age) # Shows the age of the user"
   ]
  },
  {
   "cell_type": "code",
   "execution_count": 3,
   "id": "986d579a",
   "metadata": {},
   "outputs": [],
   "source": [
    "u1 = account(\"sam\",22,\"male\",21)"
   ]
  },
  {
   "cell_type": "code",
   "execution_count": 4,
   "id": "d57b54b7",
   "metadata": {},
   "outputs": [
    {
     "name": "stdout",
     "output_type": "stream",
     "text": [
      "hello there\n",
      "your name is sam\n",
      "expire of the card is 22\n",
      "your gender are male\n",
      "your age 21\n"
     ]
    }
   ],
   "source": [
    "u1.show_details()"
   ]
  },
  {
   "cell_type": "code",
   "execution_count": 21,
   "id": "6999dd37",
   "metadata": {},
   "outputs": [],
   "source": [
    "class bank(account):\n",
    "    \"\"\"\n",
    "    Child class about bank and holds the balance and can can make deposits,\n",
    "    withdraw and show the final balance functions\n",
    "    input:\n",
    "    name: name of the account owner\n",
    "    exofcard: expire date of the card\n",
    "    gender: the gender of the the account owner\n",
    "    age: the age of the account owner\n",
    "    balance: the available balance in the account\n",
    "    \"\"\"\n",
    "    def __init__(self,name,exofcard,gender,age,balance):\n",
    "        account.__init__(self, name,exofcard,gender,age)\n",
    "        self.balance = balance\n",
    "    \n",
    "    def deposite(self, amount):\n",
    "        \"\"\"\n",
    "        Depositing money\n",
    "        \"\"\"\n",
    "        self.balance += amount\n",
    "        self.final_balance()\n",
    "        \n",
    "    def withdraw (self, amount):\n",
    "        \"\"\"\n",
    "        Withdrawing money\n",
    "        \"\"\"\n",
    "        if amount <= self.balance:\n",
    "            self.balance -= amount\n",
    "            self.final_balance()\n",
    "        else:\n",
    "            print(\"Can't withdraw\")\n",
    "    \n",
    "    def final_balance(self):\n",
    "        print(\"Your current balance is: {}\".format(self.balance))\n",
    "    \n",
    "    def show_details2(self):  \n",
    "        print(\"hello there\")\n",
    "        print(\"your name is {}\".format(self.name)) #Shows the user name\n",
    "        print(\"expire of the card is {}\".format(self.exofcard)) #prints expiring date of the card\n",
    "        print(\"your gender is {}\".format(self.gender)) #Shows gender\n",
    "        print(\"you are {} years old\".format(self.age))# shows age\n",
    "        print(\"your balance is {}\".format(self.balance))# Shows balance"
   ]
  },
  {
   "cell_type": "code",
   "execution_count": 22,
   "id": "68875ab7",
   "metadata": {},
   "outputs": [],
   "source": [
    "u1 = bank(\"sam\",22,\"male\",21,100)"
   ]
  },
  {
   "cell_type": "code",
   "execution_count": 23,
   "id": "774eb942",
   "metadata": {},
   "outputs": [
    {
     "name": "stdout",
     "output_type": "stream",
     "text": [
      "hello there\n",
      "your name is sam\n",
      "expire of the card is 22\n",
      "your gender is male\n",
      "you are 21 years old\n",
      "your balance is 100\n"
     ]
    }
   ],
   "source": [
    "u1.show_details2()"
   ]
  },
  {
   "cell_type": "code",
   "execution_count": 25,
   "id": "0b4bf4b1",
   "metadata": {},
   "outputs": [
    {
     "name": "stdout",
     "output_type": "stream",
     "text": [
      "Your current balance is: 2100\n"
     ]
    }
   ],
   "source": [
    "u1.deposite(1000)"
   ]
  },
  {
   "cell_type": "code",
   "execution_count": null,
   "id": "677a5ead",
   "metadata": {},
   "outputs": [],
   "source": []
  },
  {
   "cell_type": "code",
   "execution_count": null,
   "id": "6ef6ea8e",
   "metadata": {},
   "outputs": [],
   "source": []
  }
 ],
 "metadata": {
  "kernelspec": {
   "display_name": "Python 3",
   "language": "python",
   "name": "python3"
  },
  "language_info": {
   "codemirror_mode": {
    "name": "ipython",
    "version": 3
   },
   "file_extension": ".py",
   "mimetype": "text/x-python",
   "name": "python",
   "nbconvert_exporter": "python",
   "pygments_lexer": "ipython3",
   "version": "3.8.8"
  }
 },
 "nbformat": 4,
 "nbformat_minor": 5
}
